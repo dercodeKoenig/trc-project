{
 "cells": [
  {
   "cell_type": "markdown",
   "id": "920a24d7-b2ed-4107-b616-9ef3e55bc3f0",
   "metadata": {},
   "source": [
    "# Computes all candles for the environment"
   ]
  },
  {
   "cell_type": "code",
   "execution_count": 1,
   "id": "646009bc-a7f5-44fe-aa12-b1d6c0ed0ddf",
   "metadata": {},
   "outputs": [
    {
     "name": "stdout",
     "output_type": "stream",
     "text": [
      "['15_AUDJPY.csv', '15_AUDUSD.csv', '15_CHFJPY.csv', '15_EURAUD.csv', '15_EURCHF.csv', '15_EURGBP.csv', '15_EURJPY.csv', '15_EURUSD.csv', '15_GBPCHF.csv', '15_GBPJPY.csv', '15_GBPUSD.csv', '15_NZDUSD.csv', '15_USDCAD.csv', '15_USDCHF.csv', '15_USDJPY.csv']\n"
     ]
    }
   ],
   "source": [
    "import pickle\n",
    "import ta\n",
    "import numpy as np\n",
    "import pandas as pd\n",
    "from tqdm.notebook import tqdm\n",
    "import os\n",
    "\n",
    "class candle_class:\n",
    "    pass\n",
    "\n",
    "def create_candles(df):\n",
    "        sma21_raw = list(ta.trend.SMAIndicator(df[\"CLOSE\"], 21).sma_indicator())\n",
    "        #sma50_raw = list(ta.trend.SMAIndicator(df[\"CLOSE\"], 50).sma_indicator())\n",
    "        sma200_raw = list(ta.trend.SMAIndicator(df[\"CLOSE\"], 200).sma_indicator())\n",
    "        rsi_14 = [x / 50 - 1 for x in list(ta.momentum.RSIIndicator(df[\"CLOSE\"], 14).rsi())]\n",
    "        #atr_value = list(ta.volatility.AverageTrueRange(df[\"HIGH\"], df[\"LOW\"], df[\"CLOSE\"], 200).average_true_range())\n",
    "        #atr_fast = list(ta.volatility.AverageTrueRange(df[\"HIGH\"], df[\"LOW\"], df[\"CLOSE\"], 9).average_true_range())\n",
    "        #donchi = ta.volatility.DonchianChannel(df[\"HIGH\"], df[\"LOW\"], df[\"CLOSE\"], 21)\n",
    "        #dh = list(donchi.donchian_channel_hband())\n",
    "        #dl = list(donchi.donchian_channel_lband())\n",
    "\n",
    "        candles = []\n",
    "        for i in range(len(df)):\n",
    "          new_candle = candle_class()\n",
    "          #new_candle.t = i\n",
    "          #new_candle.o = df.iloc[i][\"OPEN\"]\n",
    "          new_candle.h = df.iloc[i][\"HIGH\"]\n",
    "          new_candle.l = df.iloc[i][\"LOW\"]\n",
    "          new_candle.c = df.iloc[i][\"CLOSE\"]\n",
    "\n",
    "\n",
    "          #new_candle.dh = dh[i]\n",
    "          #new_candle.dl = dl[i]\n",
    "          new_candle.sma21 = sma21_raw[i]\n",
    "          #new_candle.sma50 = sma50_raw[i]\n",
    "          new_candle.sma200 = sma200_raw[i]\n",
    "          new_candle.rsi14 = rsi_14[i]\n",
    "          #new_candle.atr_value = atr_value[i]\n",
    "          #new_candle.atr_fast = atr_fast[i]\n",
    "\n",
    "          candles.append(new_candle)\n",
    "        \n",
    "        return candles\n",
    "    \n",
    "\n",
    "def Save(ob, file):\n",
    "    f = open(file, \"wb\")\n",
    "    pickle.dump(ob, f)\n",
    "    f.close()\n",
    "    \n",
    "    \n",
    "total = 0\n",
    "files = os.listdir(\"./archive/\")\n",
    "print(files)\n",
    "\n",
    "            \n",
    "            \n",
    "    \n",
    "    "
   ]
  },
  {
   "cell_type": "code",
   "execution_count": null,
   "id": "2848803b-7120-4a43-99a3-5e3031d1311d",
   "metadata": {},
   "outputs": [],
   "source": [
    "df_list = []\n",
    "for i in tqdm(files):\n",
    "        if \"15_\" in i:\n",
    "            df = pd.read_csv(\"./archive/\"+i) \n",
    "            df.columns = [\"\", \"DATE_TIME\", \"OPEN\", \"HIGH\", \"LOW\", \"CLOSE\"]\n",
    "            \n",
    "            df = df[df.LOW > 0]\n",
    "            df = df[df.HIGH > 0]\n",
    "            df = df[df.OPEN > 0]\n",
    "            df = df[df.CLOSE > 0]\n",
    "            \n",
    "            candles = create_candles(df)\n",
    "            total += 1\n",
    "            Save(candles, \"./candles/candles_object_\"+str(total))\n",
    "\n",
    "\n",
    "            data_inverted = {\n",
    "                \"DATE_TIME\": list(df[\"DATE_TIME\"]),\n",
    "                \"HIGH\": [1 / x for x in list(df[\"LOW\"])],\n",
    "                \"LOW\": [1 / x for x in list(df[\"HIGH\"])],\n",
    "                \"OPEN\": [1 / x for x in list(df[\"OPEN\"])],\n",
    "                \"CLOSE\": [1 / x for x in list(df[\"CLOSE\"])],\n",
    "            }\n",
    "            df_inverted = pd.DataFrame(data_inverted)\n",
    "            candles_inverted = create_candles(df_inverted)\n",
    "            total += 1\n",
    "            Save(candles_inverted, \"./candles/candles_object_\"+str(total))"
   ]
  },
  {
   "cell_type": "code",
   "execution_count": null,
   "id": "e8667654-6904-449f-96b3-a3072abb6ab3",
   "metadata": {},
   "outputs": [],
   "source": []
  },
  {
   "cell_type": "code",
   "execution_count": null,
   "id": "fc9f1673-c518-40b3-bddd-eaa5bea855ef",
   "metadata": {},
   "outputs": [],
   "source": []
  },
  {
   "cell_type": "code",
   "execution_count": null,
   "id": "0b39944b-38ed-4a16-920e-f5f2251dadc3",
   "metadata": {},
   "outputs": [],
   "source": []
  }
 ],
 "metadata": {
  "kernelspec": {
   "display_name": "Python 3",
   "language": "python",
   "name": "python3"
  },
  "language_info": {
   "codemirror_mode": {
    "name": "ipython",
    "version": 3
   },
   "file_extension": ".py",
   "mimetype": "text/x-python",
   "name": "python",
   "nbconvert_exporter": "python",
   "pygments_lexer": "ipython3",
   "version": "3.6.8"
  }
 },
 "nbformat": 4,
 "nbformat_minor": 5
}
