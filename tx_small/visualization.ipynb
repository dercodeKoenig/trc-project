{
 "cells": [
  {
   "cell_type": "code",
   "execution_count": 1,
   "id": "fb193759-c8c3-4bc6-b348-f228ce006a03",
   "metadata": {},
   "outputs": [
    {
     "ename": "FileNotFoundError",
     "evalue": "[Errno 2] No such file or directory: 'logs/r2_log.txt'",
     "output_type": "error",
     "traceback": [
      "\u001b[1;31m---------------------------------------------------------------------------\u001b[0m",
      "\u001b[1;31mFileNotFoundError\u001b[0m                         Traceback (most recent call last)",
      "\u001b[1;32m<ipython-input-1-b23a893e2b8a>\u001b[0m in \u001b[0;36m<module>\u001b[1;34m\u001b[0m\n\u001b[0;32m      7\u001b[0m \u001b[0ms\u001b[0m \u001b[1;33m=\u001b[0m \u001b[1;36m1000\u001b[0m\u001b[1;33m\u001b[0m\u001b[1;33m\u001b[0m\u001b[0m\n\u001b[0;32m      8\u001b[0m \u001b[1;33m\u001b[0m\u001b[0m\n\u001b[1;32m----> 9\u001b[1;33m \u001b[0mfile1\u001b[0m \u001b[1;33m=\u001b[0m \u001b[0mopen\u001b[0m\u001b[1;33m(\u001b[0m\u001b[1;34m\"logs/r2_log.txt\"\u001b[0m\u001b[1;33m)\u001b[0m\u001b[1;33m\u001b[0m\u001b[1;33m\u001b[0m\u001b[0m\n\u001b[0m\u001b[0;32m     10\u001b[0m \u001b[0mtext\u001b[0m \u001b[1;33m=\u001b[0m \u001b[0mfile1\u001b[0m\u001b[1;33m.\u001b[0m\u001b[0mread\u001b[0m\u001b[1;33m(\u001b[0m\u001b[1;33m)\u001b[0m\u001b[1;33m\u001b[0m\u001b[1;33m\u001b[0m\u001b[0m\n\u001b[0;32m     11\u001b[0m \u001b[0mfile1\u001b[0m\u001b[1;33m.\u001b[0m\u001b[0mclose\u001b[0m\u001b[1;33m(\u001b[0m\u001b[1;33m)\u001b[0m\u001b[1;33m\u001b[0m\u001b[1;33m\u001b[0m\u001b[0m\n",
      "\u001b[1;31mFileNotFoundError\u001b[0m: [Errno 2] No such file or directory: 'logs/r2_log.txt'"
     ]
    }
   ],
   "source": [
    "import matplotlib.pyplot as plt\n",
    "import numpy as np\n",
    "from tqdm import tqdm\n",
    "from IPython.display import clear_output\n",
    "import time\n",
    "\n",
    "s = 1000\n",
    "\n",
    "file1 = open(\"logs/r2_log.txt\")\n",
    "text = file1.read()\n",
    "file1.close()\n",
    "\n",
    "ep_wins = []\n",
    "for x in text.split(\"\\n\")[0:]:\n",
    "    if x != \"\":\n",
    "        try:\n",
    "            ep_wins.append(float(x))\n",
    "        except:print(\"error:\", x)\n",
    "        \n",
    "\n",
    "ep_total = []\n",
    "cr = 0\n",
    "for i in ep_wins:\n",
    "  cr += i\n",
    "  ep_total.append(cr)\n",
    "\n",
    "\n",
    "ep_s = ep_wins\n",
    "x1 = [np.average(ep_s[i-s+1:i+1])for i in tqdm(range(s-1,len(ep_s)))]\n",
    "x2 = [v for v in tqdm(ep_wins)]\n",
    "clear_output()\n",
    "\n",
    "\n",
    "\n",
    "plt.figure(figsize=(30,8))\n",
    "plt.axhline(y=0, color = \"green\", linewidth=2)\n",
    "plt.plot(x1, linewidth=1, color = \"blue\")\n",
    "#plt.bar([i for i in range(len(x1))], x1)\n",
    "\n",
    "plt.figure(figsize=(30,8))\n",
    "plt.plot(ep_total)\n",
    "plt.show()\n"
   ]
  },
  {
   "cell_type": "code",
   "execution_count": null,
   "id": "d572d80c-847f-43dd-97b3-4ee506d9d06d",
   "metadata": {},
   "outputs": [],
   "source": [
    "\n",
    "s = 1000\n",
    "\n",
    "file1 = open(\"logs/num_trades_per_day.txt\")\n",
    "text = file1.read()\n",
    "file1.close()\n",
    "\n",
    "x1 = []\n",
    "for x in text.split(\"\\n\")[0:]:\n",
    "    if x != \"\":\n",
    "        try:\n",
    "            x1.append(float(x))\n",
    "        except:print(\"error:\", x)\n",
    "        \n",
    "x1 = [np.average(x1[i-s+1:i+1])for i in tqdm(range(s,len(x1)))]\n",
    "\n",
    "plt.figure(figsize=(30,8))\n",
    "\n",
    "plt.plot(x1, linewidth=1, color = \"blue\")\n",
    "#plt.bar([i for i in range(len(x1))], x1)"
   ]
  },
  {
   "cell_type": "code",
   "execution_count": null,
   "id": "716e9c50-9e51-4e9e-8f16-893886db8829",
   "metadata": {},
   "outputs": [],
   "source": []
  },
  {
   "cell_type": "code",
   "execution_count": null,
   "id": "10e9d4e8-662f-45e1-aa19-2e00002a10f0",
   "metadata": {},
   "outputs": [],
   "source": []
  },
  {
   "cell_type": "code",
   "execution_count": null,
   "id": "9fc57231-32f7-475f-a6bb-4fb913b27d52",
   "metadata": {},
   "outputs": [],
   "source": [
    "\n",
    "file1 = open(\"logs/rewards_log.txt\")\n",
    "text = file1.read()\n",
    "file1.close()\n",
    "\n",
    "rewards = [float(x) for x in text.split(\"\\n\")[0:] if x != \"\"]\n",
    "\n",
    "\n",
    "fig, ax = plt.subplots(1,1,figsize=(30,5))\n",
    "#ax[0].plot(rewards)\n",
    "\n",
    "s = [0]\n",
    "for i in rewards:\n",
    "    z = s[-1]+i\n",
    "    s.append(z)\n",
    "ax.plot(s)"
   ]
  },
  {
   "cell_type": "code",
   "execution_count": null,
   "id": "8665963f-6ae3-4dc5-9cf1-b8b10f0310a8",
   "metadata": {},
   "outputs": [],
   "source": [
    "\n",
    "s=1\n",
    "#s2 = 30000\n",
    "\n",
    "file1 = open(\"logs/loss_log.txt\")\n",
    "text = file1.read()\n",
    "file1.close()\n",
    "\n",
    "x = [float(x) for x in text.split(\"\\n\")[0:] if x != \"\"]\n",
    "weights = [m+1 for m in range(s)]\n",
    "x1=[np.average(x[i-s+1:i+1], weights = None)for i in tqdm(range(s,len(x)))]\n",
    "#x2=[np.average(x[max(0,i-s2+1):i+1])for i in tqdm(range(s,len(x)))]\n",
    "\n",
    "file1 = open(\"logs/qv_log.txt\")\n",
    "text = file1.read()\n",
    "file1.close()\n",
    "\n",
    "y = [float(x) for x in text.split(\"\\n\")[0:] if x != \"\"]\n",
    "weights = [m+1 for m in range(s)]\n",
    "y1=[np.average(y[i-s+1:i+1], weights = None)for i in tqdm(range(s,len(y)))]\n",
    "\n",
    "clear_output()\n",
    "fig, ax = plt.subplots(2,1,figsize=(30,14))\n",
    "ax[0].set_ylim(0,1)\n",
    "ax[0].plot(x1)\n",
    "#ax[0].plot(x2)\n",
    "#ax[1].set_ylim(0,5)\n",
    "ax[1].plot(y1)\n"
   ]
  },
  {
   "cell_type": "code",
   "execution_count": null,
   "id": "174ccb92-8f32-417b-8817-d7487687e489",
   "metadata": {},
   "outputs": [],
   "source": [
    "#plt.plot([100*1.02**x for x in range(30)])"
   ]
  },
  {
   "cell_type": "code",
   "execution_count": null,
   "id": "857c76ad-dc38-457a-adf3-fe5fe875f0c1",
   "metadata": {},
   "outputs": [],
   "source": []
  },
  {
   "cell_type": "code",
   "execution_count": null,
   "id": "030da23c-8bbb-4a30-85b9-336c78fffe78",
   "metadata": {},
   "outputs": [],
   "source": []
  }
 ],
 "metadata": {
  "kernelspec": {
   "display_name": "Python 3",
   "language": "python",
   "name": "python3"
  },
  "language_info": {
   "codemirror_mode": {
    "name": "ipython",
    "version": 3
   },
   "file_extension": ".py",
   "mimetype": "text/x-python",
   "name": "python",
   "nbconvert_exporter": "python",
   "pygments_lexer": "ipython3",
   "version": "3.6.8"
  }
 },
 "nbformat": 4,
 "nbformat_minor": 5
}
